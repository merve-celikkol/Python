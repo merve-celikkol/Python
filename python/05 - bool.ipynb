{
 "cells": [
  {
   "cell_type": "code",
   "execution_count": 3,
   "id": "2761cc56",
   "metadata": {},
   "outputs": [],
   "source": [
    "a = 2\n",
    "b = 2.5\n",
    "c = \"merve\""
   ]
  },
  {
   "cell_type": "code",
   "execution_count": 4,
   "id": "d7d4d1d2",
   "metadata": {},
   "outputs": [
    {
     "data": {
      "text/plain": [
       "True"
      ]
     },
     "execution_count": 4,
     "metadata": {},
     "output_type": "execute_result"
    }
   ],
   "source": [
    "bool(a)"
   ]
  },
  {
   "cell_type": "code",
   "execution_count": 5,
   "id": "105d80bc",
   "metadata": {},
   "outputs": [
    {
     "data": {
      "text/plain": [
       "True"
      ]
     },
     "execution_count": 5,
     "metadata": {},
     "output_type": "execute_result"
    }
   ],
   "source": [
    "bool(b)"
   ]
  },
  {
   "cell_type": "code",
   "execution_count": 6,
   "id": "b5519664",
   "metadata": {},
   "outputs": [
    {
     "data": {
      "text/plain": [
       "True"
      ]
     },
     "execution_count": 6,
     "metadata": {},
     "output_type": "execute_result"
    }
   ],
   "source": [
    "bool(c)"
   ]
  },
  {
   "cell_type": "code",
   "execution_count": 8,
   "id": "26187a7d",
   "metadata": {},
   "outputs": [],
   "source": [
    "d = 0       # 0 değeri hariç diğer değerler için true verir\n",
    "f = \"\"      # string de içerisi boş ise false verir.\n",
    "g = \" \"     # string de içerisi boşluk dahi olsa true verir"
   ]
  },
  {
   "cell_type": "code",
   "execution_count": 9,
   "id": "eebc3e07",
   "metadata": {},
   "outputs": [
    {
     "data": {
      "text/plain": [
       "False"
      ]
     },
     "execution_count": 9,
     "metadata": {},
     "output_type": "execute_result"
    }
   ],
   "source": [
    "bool(d)"
   ]
  },
  {
   "cell_type": "code",
   "execution_count": 10,
   "id": "b38167a7",
   "metadata": {},
   "outputs": [
    {
     "data": {
      "text/plain": [
       "False"
      ]
     },
     "execution_count": 10,
     "metadata": {},
     "output_type": "execute_result"
    }
   ],
   "source": [
    "bool(f)"
   ]
  },
  {
   "cell_type": "code",
   "execution_count": 11,
   "id": "0c5dd2d4",
   "metadata": {},
   "outputs": [
    {
     "data": {
      "text/plain": [
       "True"
      ]
     },
     "execution_count": 11,
     "metadata": {},
     "output_type": "execute_result"
    }
   ],
   "source": [
    "bool(g)"
   ]
  },
  {
   "cell_type": "code",
   "execution_count": 12,
   "id": "682ad12c",
   "metadata": {},
   "outputs": [],
   "source": [
    "q = -1"
   ]
  },
  {
   "cell_type": "code",
   "execution_count": 13,
   "id": "a39c6aaf",
   "metadata": {},
   "outputs": [
    {
     "data": {
      "text/plain": [
       "True"
      ]
     },
     "execution_count": 13,
     "metadata": {},
     "output_type": "execute_result"
    }
   ],
   "source": [
    "bool(q)"
   ]
  },
  {
   "cell_type": "code",
   "execution_count": 14,
   "id": "29c992e3",
   "metadata": {},
   "outputs": [],
   "source": [
    "t = 0.1"
   ]
  },
  {
   "cell_type": "code",
   "execution_count": 15,
   "id": "e9a7a629",
   "metadata": {},
   "outputs": [
    {
     "data": {
      "text/plain": [
       "True"
      ]
     },
     "execution_count": 15,
     "metadata": {},
     "output_type": "execute_result"
    }
   ],
   "source": [
    "bool(t)"
   ]
  }
 ],
 "metadata": {
  "kernelspec": {
   "display_name": "Python 3 (ipykernel)",
   "language": "python",
   "name": "python3"
  },
  "language_info": {
   "codemirror_mode": {
    "name": "ipython",
    "version": 3
   },
   "file_extension": ".py",
   "mimetype": "text/x-python",
   "name": "python",
   "nbconvert_exporter": "python",
   "pygments_lexer": "ipython3",
   "version": "3.11.4"
  }
 },
 "nbformat": 4,
 "nbformat_minor": 5
}
