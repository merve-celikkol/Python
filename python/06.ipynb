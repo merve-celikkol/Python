{
 "cells": [
  {
   "cell_type": "code",
   "execution_count": 1,
   "id": "31d203da",
   "metadata": {},
   "outputs": [],
   "source": [
    "sayılar = 15\n",
    "yazılar = \"7.6\"\n",
    "ondalıksayı = 2.4"
   ]
  },
  {
   "cell_type": "code",
   "execution_count": 2,
   "id": "a2203af2",
   "metadata": {},
   "outputs": [
    {
     "data": {
      "text/plain": [
       "int"
      ]
     },
     "execution_count": 2,
     "metadata": {},
     "output_type": "execute_result"
    }
   ],
   "source": [
    "type(sayılar)"
   ]
  },
  {
   "cell_type": "code",
   "execution_count": 3,
   "id": "a67533a1",
   "metadata": {},
   "outputs": [
    {
     "data": {
      "text/plain": [
       "'15'"
      ]
     },
     "execution_count": 3,
     "metadata": {},
     "output_type": "execute_result"
    }
   ],
   "source": [
    "str(sayılar)"
   ]
  },
  {
   "cell_type": "code",
   "execution_count": 4,
   "id": "0f5791a7",
   "metadata": {},
   "outputs": [
    {
     "data": {
      "text/plain": [
       "15"
      ]
     },
     "execution_count": 4,
     "metadata": {},
     "output_type": "execute_result"
    }
   ],
   "source": [
    "sayılar"
   ]
  },
  {
   "cell_type": "code",
   "execution_count": 5,
   "id": "60c03e53",
   "metadata": {},
   "outputs": [],
   "source": [
    "sayılar = str(sayılar)"
   ]
  },
  {
   "cell_type": "code",
   "execution_count": 6,
   "id": "0da448d8",
   "metadata": {},
   "outputs": [
    {
     "data": {
      "text/plain": [
       "str"
      ]
     },
     "execution_count": 6,
     "metadata": {},
     "output_type": "execute_result"
    }
   ],
   "source": [
    "type(sayılar)"
   ]
  },
  {
   "cell_type": "code",
   "execution_count": 7,
   "id": "1c58db93",
   "metadata": {},
   "outputs": [
    {
     "data": {
      "text/plain": [
       "2"
      ]
     },
     "execution_count": 7,
     "metadata": {},
     "output_type": "execute_result"
    }
   ],
   "source": [
    "int(ondalıksayı)"
   ]
  },
  {
   "cell_type": "code",
   "execution_count": 8,
   "id": "93c9d8b0",
   "metadata": {},
   "outputs": [],
   "source": [
    "ondalıksayı = int(ondalıksayı)"
   ]
  },
  {
   "cell_type": "code",
   "execution_count": 9,
   "id": "c3304967",
   "metadata": {},
   "outputs": [
    {
     "data": {
      "text/plain": [
       "2"
      ]
     },
     "execution_count": 9,
     "metadata": {},
     "output_type": "execute_result"
    }
   ],
   "source": [
    "ondalıksayı"
   ]
  },
  {
   "cell_type": "code",
   "execution_count": 10,
   "id": "c0b64351",
   "metadata": {},
   "outputs": [],
   "source": [
    "ad = \"5f5\"    # harf içerdiği için int değerine atayamayız."
   ]
  },
  {
   "cell_type": "code",
   "execution_count": null,
   "id": "e523a63e",
   "metadata": {},
   "outputs": [],
   "source": []
  }
 ],
 "metadata": {
  "kernelspec": {
   "display_name": "Python 3 (ipykernel)",
   "language": "python",
   "name": "python3"
  },
  "language_info": {
   "codemirror_mode": {
    "name": "ipython",
    "version": 3
   },
   "file_extension": ".py",
   "mimetype": "text/x-python",
   "name": "python",
   "nbconvert_exporter": "python",
   "pygments_lexer": "ipython3",
   "version": "3.11.4"
  }
 },
 "nbformat": 4,
 "nbformat_minor": 5
}
