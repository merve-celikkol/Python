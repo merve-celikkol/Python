{
 "cells": [
  {
   "cell_type": "code",
   "execution_count": 15,
   "id": "fddd51d1",
   "metadata": {},
   "outputs": [],
   "source": [
    "karakter = \"Merve\""
   ]
  },
  {
   "cell_type": "code",
   "execution_count": 12,
   "id": "b488d4f3",
   "metadata": {},
   "outputs": [
    {
     "data": {
      "text/plain": [
       "'Buraya sayı giriniz :'"
      ]
     },
     "execution_count": 12,
     "metadata": {},
     "output_type": "execute_result"
    }
   ],
   "source": [
    "karakter"
   ]
  },
  {
   "cell_type": "code",
   "execution_count": 8,
   "id": "5050127e",
   "metadata": {},
   "outputs": [
    {
     "data": {
      "text/plain": [
       "str"
      ]
     },
     "execution_count": 8,
     "metadata": {},
     "output_type": "execute_result"
    }
   ],
   "source": [
    "type(karakter)"
   ]
  },
  {
   "cell_type": "code",
   "execution_count": 9,
   "id": "d0f42c38",
   "metadata": {},
   "outputs": [],
   "source": [
    "a = 2"
   ]
  },
  {
   "cell_type": "code",
   "execution_count": 16,
   "id": "e5c51cdd",
   "metadata": {},
   "outputs": [
    {
     "data": {
      "text/plain": [
       "'MerveMerve'"
      ]
     },
     "execution_count": 16,
     "metadata": {},
     "output_type": "execute_result"
    }
   ],
   "source": [
    "a * karakter"
   ]
  },
  {
   "cell_type": "code",
   "execution_count": null,
   "id": "fb329c08",
   "metadata": {},
   "outputs": [],
   "source": []
  },
  {
   "cell_type": "code",
   "execution_count": 17,
   "id": "b6353e24",
   "metadata": {},
   "outputs": [],
   "source": [
    "ad = \"Çelikkol\""
   ]
  },
  {
   "cell_type": "code",
   "execution_count": 18,
   "id": "e7014267",
   "metadata": {},
   "outputs": [
    {
     "data": {
      "text/plain": [
       "'ÇelikkolMerve'"
      ]
     },
     "execution_count": 18,
     "metadata": {},
     "output_type": "execute_result"
    }
   ],
   "source": [
    "ad + karakter"
   ]
  },
  {
   "cell_type": "code",
   "execution_count": 19,
   "id": "f2529b28",
   "metadata": {},
   "outputs": [],
   "source": [
    "sayı = \"3\""
   ]
  },
  {
   "cell_type": "code",
   "execution_count": 21,
   "id": "042197be",
   "metadata": {},
   "outputs": [
    {
     "data": {
      "text/plain": [
       "'3ÇelikkolMerve'"
      ]
     },
     "execution_count": 21,
     "metadata": {},
     "output_type": "execute_result"
    }
   ],
   "source": [
    "sayı + ad + karakter"
   ]
  }
 ],
 "metadata": {
  "kernelspec": {
   "display_name": "Python 3 (ipykernel)",
   "language": "python",
   "name": "python3"
  },
  "language_info": {
   "codemirror_mode": {
    "name": "ipython",
    "version": 3
   },
   "file_extension": ".py",
   "mimetype": "text/x-python",
   "name": "python",
   "nbconvert_exporter": "python",
   "pygments_lexer": "ipython3",
   "version": "3.11.4"
  }
 },
 "nbformat": 4,
 "nbformat_minor": 5
}
